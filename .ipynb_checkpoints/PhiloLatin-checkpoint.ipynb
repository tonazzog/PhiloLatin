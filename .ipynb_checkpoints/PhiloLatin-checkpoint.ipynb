{
 "cells": [
  {
   "cell_type": "code",
   "execution_count": 1,
   "id": "f88bf445-09cd-488c-ba91-6367c5800815",
   "metadata": {},
   "outputs": [],
   "source": [
    "from langchain.output_parsers import PydanticOutputParser\n",
    "from langchain_core.prompts import PromptTemplate\n",
    "from langchain_mistralai import ChatMistralAI\n",
    "from langchain_ollama.llms import OllamaLLM\n",
    "from langchain_openai import ChatOpenAI\n",
    "from langchain.load.dump import dumps\n",
    "from pydantic import BaseModel, Field\n",
    "from pydantic.config import ConfigDict\n",
    "from typing import Annotated, Literal\n",
    "from enum import Enum\n",
    "from typing import Literal\n",
    "import pandas as pd\n",
    "import json\n",
    "import os\n",
    "import time\n",
    "from dotenv import load_dotenv"
   ]
  },
  {
   "cell_type": "code",
   "execution_count": 2,
   "id": "9f61b13a-8d58-48cc-aaa7-e4d262349d94",
   "metadata": {},
   "outputs": [],
   "source": [
    "df_claude = pd.read_csv('claude.csv', encoding = 'utf-8')"
   ]
  },
  {
   "cell_type": "code",
   "execution_count": 3,
   "id": "ccbdc18d-84ca-4a9d-9922-27cd68010975",
   "metadata": {},
   "outputs": [
    {
     "data": {
      "text/html": [
       "<div>\n",
       "<style scoped>\n",
       "    .dataframe tbody tr th:only-of-type {\n",
       "        vertical-align: middle;\n",
       "    }\n",
       "\n",
       "    .dataframe tbody tr th {\n",
       "        vertical-align: top;\n",
       "    }\n",
       "\n",
       "    .dataframe thead th {\n",
       "        text-align: right;\n",
       "    }\n",
       "</style>\n",
       "<table border=\"1\" class=\"dataframe\">\n",
       "  <thead>\n",
       "    <tr style=\"text-align: right;\">\n",
       "      <th></th>\n",
       "      <th>Expression</th>\n",
       "      <th>Latin</th>\n",
       "      <th>English Translation</th>\n",
       "      <th>Philosophical Branch</th>\n",
       "      <th>Philosophical Meaning</th>\n",
       "    </tr>\n",
       "  </thead>\n",
       "  <tbody>\n",
       "    <tr>\n",
       "      <th>0</th>\n",
       "      <td>A Priori</td>\n",
       "      <td>A Priori</td>\n",
       "      <td>from the earlier</td>\n",
       "      <td>Epistemology</td>\n",
       "      <td>Knowledge or reasoning independent of experien...</td>\n",
       "    </tr>\n",
       "    <tr>\n",
       "      <th>1</th>\n",
       "      <td>A Posteriori</td>\n",
       "      <td>A Posteriori</td>\n",
       "      <td>from the later</td>\n",
       "      <td>Epistemology</td>\n",
       "      <td>Knowledge derived from experience and empirica...</td>\n",
       "    </tr>\n",
       "    <tr>\n",
       "      <th>2</th>\n",
       "      <td>Tabula Rasa</td>\n",
       "      <td>Tabula Rasa</td>\n",
       "      <td>blank slate</td>\n",
       "      <td>Epistemology</td>\n",
       "      <td>Concept that humans are born without inherent ...</td>\n",
       "    </tr>\n",
       "    <tr>\n",
       "      <th>3</th>\n",
       "      <td>Homo Homini Lupus</td>\n",
       "      <td>Homo Homini Lupus</td>\n",
       "      <td>man is a wolf to man</td>\n",
       "      <td>Political Philosophy</td>\n",
       "      <td>Suggests humans are naturally competitive and ...</td>\n",
       "    </tr>\n",
       "    <tr>\n",
       "      <th>4</th>\n",
       "      <td>Cogito Ergo Sum</td>\n",
       "      <td>Cogito Ergo Sum</td>\n",
       "      <td>I think therefore I am</td>\n",
       "      <td>Metaphysics</td>\n",
       "      <td>Descartes' fundamental proposition that the ac...</td>\n",
       "    </tr>\n",
       "  </tbody>\n",
       "</table>\n",
       "</div>"
      ],
      "text/plain": [
       "          Expression              Latin     English Translation  \\\n",
       "0           A Priori           A Priori        from the earlier   \n",
       "1       A Posteriori       A Posteriori          from the later   \n",
       "2        Tabula Rasa        Tabula Rasa             blank slate   \n",
       "3  Homo Homini Lupus  Homo Homini Lupus    man is a wolf to man   \n",
       "4    Cogito Ergo Sum    Cogito Ergo Sum  I think therefore I am   \n",
       "\n",
       "   Philosophical Branch                              Philosophical Meaning  \n",
       "0          Epistemology  Knowledge or reasoning independent of experien...  \n",
       "1          Epistemology  Knowledge derived from experience and empirica...  \n",
       "2          Epistemology  Concept that humans are born without inherent ...  \n",
       "3  Political Philosophy  Suggests humans are naturally competitive and ...  \n",
       "4           Metaphysics  Descartes' fundamental proposition that the ac...  "
      ]
     },
     "execution_count": 3,
     "metadata": {},
     "output_type": "execute_result"
    }
   ],
   "source": [
    "df_claude.head()"
   ]
  },
  {
   "cell_type": "code",
   "execution_count": null,
   "id": "e4b14083-3079-41d4-857c-846e3097534a",
   "metadata": {},
   "outputs": [],
   "source": []
  },
  {
   "cell_type": "code",
   "execution_count": 4,
   "id": "96095cbc-cb7d-4f3d-8018-1778897db10a",
   "metadata": {},
   "outputs": [],
   "source": [
    "df = pd.read_csv('Enriched-Latin-Philosophy-Expressions.csv', encoding = 'utf-8')"
   ]
  },
  {
   "cell_type": "code",
   "execution_count": 11,
   "id": "cf71692a-8a20-4e25-a602-d6a40f1fdf2b",
   "metadata": {},
   "outputs": [
    {
     "data": {
      "text/plain": [
       "'preposition + the accusative neuter singular of the pronoun hic/haec/hoc (literally: ‘to this thing’): a proposed solution lacking in independent justification (e.g. ‘Aristotle’s view that nous is the kind of knowledge we have of the first principles seems entirely ad hoc.’)'"
      ]
     },
     "execution_count": 11,
     "metadata": {},
     "output_type": "execute_result"
    }
   ],
   "source": [
    "df.iloc[3]['Explanation']"
   ]
  },
  {
   "cell_type": "code",
   "execution_count": 6,
   "id": "9395fe2f-b1de-4479-97a3-2550c6dd77d2",
   "metadata": {},
   "outputs": [],
   "source": [
    "df_gemini = pd.read_csv('gemini.csv', encoding = 'utf-8')"
   ]
  },
  {
   "cell_type": "code",
   "execution_count": 7,
   "id": "2be6a70f-c04f-4737-97f4-cc7765c0ad1e",
   "metadata": {},
   "outputs": [
    {
     "data": {
      "text/html": [
       "<div>\n",
       "<style scoped>\n",
       "    .dataframe tbody tr th:only-of-type {\n",
       "        vertical-align: middle;\n",
       "    }\n",
       "\n",
       "    .dataframe tbody tr th {\n",
       "        vertical-align: top;\n",
       "    }\n",
       "\n",
       "    .dataframe thead th {\n",
       "        text-align: right;\n",
       "    }\n",
       "</style>\n",
       "<table border=\"1\" class=\"dataframe\">\n",
       "  <thead>\n",
       "    <tr style=\"text-align: right;\">\n",
       "      <th></th>\n",
       "      <th>Latin Expression</th>\n",
       "      <th>Meaning</th>\n",
       "      <th>Associated Philosophers</th>\n",
       "    </tr>\n",
       "  </thead>\n",
       "  <tbody>\n",
       "    <tr>\n",
       "      <th>0</th>\n",
       "      <td>A posteriori</td>\n",
       "      <td>(From the latter) Refers to knowledge that is ...</td>\n",
       "      <td>Empiricists like John Locke, David Hume</td>\n",
       "    </tr>\n",
       "    <tr>\n",
       "      <th>1</th>\n",
       "      <td>A priori</td>\n",
       "      <td>(From the former) Refers to knowledge that is ...</td>\n",
       "      <td>Rationalists like René Descartes, Immanuel Kant</td>\n",
       "    </tr>\n",
       "    <tr>\n",
       "      <th>2</th>\n",
       "      <td>Ab esse ad posse valet consequentia</td>\n",
       "      <td>(From being to possibility the consequence hol...</td>\n",
       "      <td>NaN</td>\n",
       "    </tr>\n",
       "    <tr>\n",
       "      <th>3</th>\n",
       "      <td>Ad hoc</td>\n",
       "      <td>(To this) Devised for a specific purpose or si...</td>\n",
       "      <td>NaN</td>\n",
       "    </tr>\n",
       "    <tr>\n",
       "      <th>4</th>\n",
       "      <td>Ad hominem</td>\n",
       "      <td>(To the person) An argument directed against t...</td>\n",
       "      <td>NaN</td>\n",
       "    </tr>\n",
       "    <tr>\n",
       "      <th>5</th>\n",
       "      <td>Ad ignorantiam</td>\n",
       "      <td>(To ignorance) An argument that a proposition ...</td>\n",
       "      <td>NaN</td>\n",
       "    </tr>\n",
       "    <tr>\n",
       "      <th>6</th>\n",
       "      <td>Ad infinitum</td>\n",
       "      <td>(To infinity) Without limit; endlessly.</td>\n",
       "      <td>NaN</td>\n",
       "    </tr>\n",
       "    <tr>\n",
       "      <th>7</th>\n",
       "      <td>Ad nauseam</td>\n",
       "      <td>(To nausea) To the point of being excessive or...</td>\n",
       "      <td>NaN</td>\n",
       "    </tr>\n",
       "    <tr>\n",
       "      <th>8</th>\n",
       "      <td>Actus purus</td>\n",
       "      <td>(Pure act) A concept in Aristotelian and Schol...</td>\n",
       "      <td>Aristotle, Thomas Aquinas</td>\n",
       "    </tr>\n",
       "    <tr>\n",
       "      <th>9</th>\n",
       "      <td>Amor fati</td>\n",
       "      <td>(Love of fate) A Stoic concept emphasizing acc...</td>\n",
       "      <td>Stoics like Epictetus, Marcus Aurelius, Friedr...</td>\n",
       "    </tr>\n",
       "    <tr>\n",
       "      <th>10</th>\n",
       "      <td>An sich</td>\n",
       "      <td>(In itself) A Kantian term referring to the th...</td>\n",
       "      <td>Immanuel Kant</td>\n",
       "    </tr>\n",
       "    <tr>\n",
       "      <th>11</th>\n",
       "      <td>Argumentum ad baculum</td>\n",
       "      <td>(Argument to the stick) An argument that relie...</td>\n",
       "      <td>NaN</td>\n",
       "    </tr>\n",
       "    <tr>\n",
       "      <th>12</th>\n",
       "      <td>Argumentum ad populum</td>\n",
       "      <td>(Argument to the people) An argument that appe...</td>\n",
       "      <td>NaN</td>\n",
       "    </tr>\n",
       "    <tr>\n",
       "      <th>13</th>\n",
       "      <td>Ars gratia artis</td>\n",
       "      <td>(Art for art's sake) The belief that the intri...</td>\n",
       "      <td>NaN</td>\n",
       "    </tr>\n",
       "    <tr>\n",
       "      <th>14</th>\n",
       "      <td>Cogito, ergo sum</td>\n",
       "      <td>(I think, therefore I am) A foundational state...</td>\n",
       "      <td>René Descartes</td>\n",
       "    </tr>\n",
       "    <tr>\n",
       "      <th>15</th>\n",
       "      <td>Conatus</td>\n",
       "      <td>(Effort, striving) A fundamental tendency of a...</td>\n",
       "      <td>Baruch Spinoza</td>\n",
       "    </tr>\n",
       "    <tr>\n",
       "      <th>16</th>\n",
       "      <td>Corpus</td>\n",
       "      <td>(Body) Used in various philosophical contexts,...</td>\n",
       "      <td>NaN</td>\n",
       "    </tr>\n",
       "    <tr>\n",
       "      <th>17</th>\n",
       "      <td>Cui bono?</td>\n",
       "      <td>(For whose good?) A question used to inquire a...</td>\n",
       "      <td>NaN</td>\n",
       "    </tr>\n",
       "    <tr>\n",
       "      <th>18</th>\n",
       "      <td>De facto</td>\n",
       "      <td>(In fact) Existing or happening in reality, wh...</td>\n",
       "      <td>NaN</td>\n",
       "    </tr>\n",
       "    <tr>\n",
       "      <th>19</th>\n",
       "      <td>De jure</td>\n",
       "      <td>(By right) Existing or determined by law or le...</td>\n",
       "      <td>NaN</td>\n",
       "    </tr>\n",
       "  </tbody>\n",
       "</table>\n",
       "</div>"
      ],
      "text/plain": [
       "                       Latin Expression  \\\n",
       "0                          A posteriori   \n",
       "1                              A priori   \n",
       "2   Ab esse ad posse valet consequentia   \n",
       "3                                Ad hoc   \n",
       "4                            Ad hominem   \n",
       "5                        Ad ignorantiam   \n",
       "6                          Ad infinitum   \n",
       "7                            Ad nauseam   \n",
       "8                           Actus purus   \n",
       "9                             Amor fati   \n",
       "10                              An sich   \n",
       "11                Argumentum ad baculum   \n",
       "12                Argumentum ad populum   \n",
       "13                     Ars gratia artis   \n",
       "14                     Cogito, ergo sum   \n",
       "15                              Conatus   \n",
       "16                               Corpus   \n",
       "17                            Cui bono?   \n",
       "18                             De facto   \n",
       "19                              De jure   \n",
       "\n",
       "                                              Meaning  \\\n",
       "0   (From the latter) Refers to knowledge that is ...   \n",
       "1   (From the former) Refers to knowledge that is ...   \n",
       "2   (From being to possibility the consequence hol...   \n",
       "3   (To this) Devised for a specific purpose or si...   \n",
       "4   (To the person) An argument directed against t...   \n",
       "5   (To ignorance) An argument that a proposition ...   \n",
       "6             (To infinity) Without limit; endlessly.   \n",
       "7   (To nausea) To the point of being excessive or...   \n",
       "8   (Pure act) A concept in Aristotelian and Schol...   \n",
       "9   (Love of fate) A Stoic concept emphasizing acc...   \n",
       "10  (In itself) A Kantian term referring to the th...   \n",
       "11  (Argument to the stick) An argument that relie...   \n",
       "12  (Argument to the people) An argument that appe...   \n",
       "13  (Art for art's sake) The belief that the intri...   \n",
       "14  (I think, therefore I am) A foundational state...   \n",
       "15  (Effort, striving) A fundamental tendency of a...   \n",
       "16  (Body) Used in various philosophical contexts,...   \n",
       "17  (For whose good?) A question used to inquire a...   \n",
       "18  (In fact) Existing or happening in reality, wh...   \n",
       "19  (By right) Existing or determined by law or le...   \n",
       "\n",
       "                              Associated Philosophers  \n",
       "0             Empiricists like John Locke, David Hume  \n",
       "1     Rationalists like René Descartes, Immanuel Kant  \n",
       "2                                                 NaN  \n",
       "3                                                 NaN  \n",
       "4                                                 NaN  \n",
       "5                                                 NaN  \n",
       "6                                                 NaN  \n",
       "7                                                 NaN  \n",
       "8                           Aristotle, Thomas Aquinas  \n",
       "9   Stoics like Epictetus, Marcus Aurelius, Friedr...  \n",
       "10                                      Immanuel Kant  \n",
       "11                                                NaN  \n",
       "12                                                NaN  \n",
       "13                                                NaN  \n",
       "14                                     René Descartes  \n",
       "15                                     Baruch Spinoza  \n",
       "16                                                NaN  \n",
       "17                                                NaN  \n",
       "18                                                NaN  \n",
       "19                                                NaN  "
      ]
     },
     "execution_count": 7,
     "metadata": {},
     "output_type": "execute_result"
    }
   ],
   "source": [
    "df_gemini.head(20)"
   ]
  },
  {
   "cell_type": "code",
   "execution_count": null,
   "id": "f684c561-e093-4828-8959-8b2976761184",
   "metadata": {},
   "outputs": [],
   "source": [
    "len(df_gemini)"
   ]
  },
  {
   "cell_type": "code",
   "execution_count": null,
   "id": "1db96f27-a868-4921-bdf0-f1f2f00cc4fb",
   "metadata": {},
   "outputs": [],
   "source": [
    "l1 = [e.lower() for e in df_gemini['Latin Expression'].to_list()]"
   ]
  },
  {
   "cell_type": "code",
   "execution_count": null,
   "id": "090cd8df-4d34-40f8-9c3a-e0b3296454e7",
   "metadata": {},
   "outputs": [],
   "source": [
    "df_claude.head()"
   ]
  },
  {
   "cell_type": "code",
   "execution_count": null,
   "id": "01b7da1d-85d7-4400-a259-3d7da9883cce",
   "metadata": {},
   "outputs": [],
   "source": [
    "l2 = [e.lower() for e in df_claude['Expression'].to_list()]"
   ]
  },
  {
   "cell_type": "code",
   "execution_count": null,
   "id": "7e34223d-c77b-4242-884d-a5c42d0d8ca1",
   "metadata": {},
   "outputs": [],
   "source": [
    "len(l2)"
   ]
  },
  {
   "cell_type": "code",
   "execution_count": null,
   "id": "e69f1222-020c-4ee9-862a-e88b2a02a6bf",
   "metadata": {},
   "outputs": [],
   "source": [
    "l3 = [e.lower() for e in df['Expression'].to_list()]"
   ]
  },
  {
   "cell_type": "code",
   "execution_count": null,
   "id": "d052e491-3dfa-49b0-a34f-69edc38cec5c",
   "metadata": {},
   "outputs": [],
   "source": [
    "expr = set(l1 + l2 +l3)"
   ]
  },
  {
   "cell_type": "code",
   "execution_count": null,
   "id": "ea684e0a-ce72-4cdb-b02d-b108f3e8423c",
   "metadata": {},
   "outputs": [],
   "source": [
    "expr"
   ]
  },
  {
   "cell_type": "code",
   "execution_count": 13,
   "id": "aa33f481-ed5e-4322-bd88-c990d6c0840a",
   "metadata": {},
   "outputs": [],
   "source": [
    "df_deep = pd.read_csv('DeepSeek.csv', encoding = 'utf-8')"
   ]
  },
  {
   "cell_type": "code",
   "execution_count": 15,
   "id": "d80f713d-c196-4c2e-80d5-438b62784b94",
   "metadata": {},
   "outputs": [
    {
     "data": {
      "text/html": [
       "<div>\n",
       "<style scoped>\n",
       "    .dataframe tbody tr th:only-of-type {\n",
       "        vertical-align: middle;\n",
       "    }\n",
       "\n",
       "    .dataframe tbody tr th {\n",
       "        vertical-align: top;\n",
       "    }\n",
       "\n",
       "    .dataframe thead th {\n",
       "        text-align: right;\n",
       "    }\n",
       "</style>\n",
       "<table border=\"1\" class=\"dataframe\">\n",
       "  <thead>\n",
       "    <tr style=\"text-align: right;\">\n",
       "      <th></th>\n",
       "      <th>Expression</th>\n",
       "      <th>LiteralTranslation</th>\n",
       "      <th>AssociatedWith</th>\n",
       "      <th>BranchOfPhilosophy</th>\n",
       "      <th>Meaning</th>\n",
       "    </tr>\n",
       "  </thead>\n",
       "  <tbody>\n",
       "    <tr>\n",
       "      <th>115</th>\n",
       "      <td>veritas vos liberabit</td>\n",
       "      <td>the truth will set you free</td>\n",
       "      <td>Biblical, Philosophy of Religion</td>\n",
       "      <td>Ethics, Epistemology</td>\n",
       "      <td>The idea that knowledge of truth leads to libe...</td>\n",
       "    </tr>\n",
       "    <tr>\n",
       "      <th>116</th>\n",
       "      <td>via negativa</td>\n",
       "      <td>negative way</td>\n",
       "      <td>Mysticism, Theology</td>\n",
       "      <td>Philosophy of Religion</td>\n",
       "      <td>Describing something by what it is not, especi...</td>\n",
       "    </tr>\n",
       "    <tr>\n",
       "      <th>117</th>\n",
       "      <td>vice versa</td>\n",
       "      <td>the other way around</td>\n",
       "      <td>General</td>\n",
       "      <td>Logic</td>\n",
       "      <td>The converse or reciprocal relationship betwee...</td>\n",
       "    </tr>\n",
       "    <tr>\n",
       "      <th>118</th>\n",
       "      <td>vis inertiae</td>\n",
       "      <td>force of inertia</td>\n",
       "      <td>Physics, Philosophy of Science</td>\n",
       "      <td>Metaphysics</td>\n",
       "      <td>The resistance of matter to change its state o...</td>\n",
       "    </tr>\n",
       "    <tr>\n",
       "      <th>119</th>\n",
       "      <td>vox populi, vox dei</td>\n",
       "      <td>the voice of the people is the voice of God</td>\n",
       "      <td>Political philosophy</td>\n",
       "      <td>Political Philosophy</td>\n",
       "      <td>The idea that popular opinion reflects divine ...</td>\n",
       "    </tr>\n",
       "  </tbody>\n",
       "</table>\n",
       "</div>"
      ],
      "text/plain": [
       "                Expression                           LiteralTranslation  \\\n",
       "115  veritas vos liberabit                  the truth will set you free   \n",
       "116           via negativa                                 negative way   \n",
       "117             vice versa                         the other way around   \n",
       "118           vis inertiae                             force of inertia   \n",
       "119    vox populi, vox dei  the voice of the people is the voice of God   \n",
       "\n",
       "                       AssociatedWith      BranchOfPhilosophy  \\\n",
       "115  Biblical, Philosophy of Religion    Ethics, Epistemology   \n",
       "116               Mysticism, Theology  Philosophy of Religion   \n",
       "117                           General                   Logic   \n",
       "118    Physics, Philosophy of Science             Metaphysics   \n",
       "119              Political philosophy    Political Philosophy   \n",
       "\n",
       "                                               Meaning  \n",
       "115  The idea that knowledge of truth leads to libe...  \n",
       "116  Describing something by what it is not, especi...  \n",
       "117  The converse or reciprocal relationship betwee...  \n",
       "118  The resistance of matter to change its state o...  \n",
       "119  The idea that popular opinion reflects divine ...  "
      ]
     },
     "execution_count": 15,
     "metadata": {},
     "output_type": "execute_result"
    }
   ],
   "source": [
    "df_deep.tail()"
   ]
  },
  {
   "cell_type": "code",
   "execution_count": 55,
   "id": "65c4756a-511d-4481-b48d-391024d9b728",
   "metadata": {},
   "outputs": [],
   "source": [
    "# ChatGPT API\n",
    "load_dotenv()\n",
    "model_name = 'chatgpt'\n",
    "model = ChatOpenAI(\n",
    "    model = 'gpt-4o-mini',\n",
    "    openai_api_key = os.getenv('OPENAI_API_KEY')\n",
    ")"
   ]
  },
  {
   "cell_type": "code",
   "execution_count": 51,
   "id": "e897399e-df1e-416d-816a-b9b7a4147676",
   "metadata": {},
   "outputs": [],
   "source": [
    "model_name = 'mistral'\n",
    "model = ChatMistralAI(\n",
    "    model = \"mistral-large-latest\", \n",
    "    temperature = 0.,\n",
    "    api_key = os.getenv(\"MISTRAL_API_KEY\")\n",
    ")"
   ]
  },
  {
   "cell_type": "code",
   "execution_count": 52,
   "id": "072e0b51-9370-4d90-a333-0f035eac40cf",
   "metadata": {},
   "outputs": [
    {
     "data": {
      "text/plain": [
       "AIMessage(content=\"Hello! How can I assist you today? Let's have a friendly conversation. 😊 How are you doing?\", additional_kwargs={}, response_metadata={'token_usage': {'prompt_tokens': 5, 'total_tokens': 30, 'completion_tokens': 25}, 'model': 'mistral-large-latest', 'finish_reason': 'stop'}, id='run-d7ab1a37-a957-4cff-b882-647c2148fb67-0', usage_metadata={'input_tokens': 5, 'output_tokens': 25, 'total_tokens': 30})"
      ]
     },
     "execution_count": 52,
     "metadata": {},
     "output_type": "execute_result"
    }
   ],
   "source": [
    "# Test\n",
    "model.invoke(\"hello\")"
   ]
  },
  {
   "cell_type": "code",
   "execution_count": 112,
   "id": "147ed65a-7763-40df-a82e-f7cfbd86db99",
   "metadata": {},
   "outputs": [],
   "source": [
    "class PhiloExpression(BaseModel):\n",
    "    expression : str\n",
    "    translation : str\n",
    "    explanation : str\n",
    "    associated_with: list[str]\n",
    "    branch : Literal['Epistemology', 'Metaphysics', 'Logic', 'Aesthetics' , 'Ethics', 'Political Philosophy']"
   ]
  },
  {
   "cell_type": "code",
   "execution_count": 113,
   "id": "a2b0cc85-5d5c-4194-9543-0376e18f35d2",
   "metadata": {},
   "outputs": [],
   "source": [
    "base_prompt = \"\"\"The Latin expression {expression} has a specific meaning in philosophy. \n",
    "Please provide in outpus\n",
    "0) the Latin expression\n",
    "1) the literal English translation\n",
    "2) a detailed explanation of its meaning in philosophy\n",
    "3) the philosophers of philosophical schools it is associated with \n",
    "3) the brach of philosophy it belongs to\n",
    "\"\"\""
   ]
  },
  {
   "cell_type": "code",
   "execution_count": 114,
   "id": "6b33590d-e208-4360-9bb0-38dd7b78f722",
   "metadata": {},
   "outputs": [],
   "source": [
    "def get_prompt(base_prompt, parser):\n",
    "\n",
    "    template = base_prompt + \"\\n\" + \"{format_instructions}'\"\n",
    "    \n",
    "    prompt = PromptTemplate(\n",
    "        template = template,\n",
    "        input_variables = [\"expression\"],\n",
    "        partial_variables = {\"format_instructions\": parser.get_format_instructions()}\n",
    "    )\n",
    "    \n",
    "    return prompt"
   ]
  },
  {
   "cell_type": "code",
   "execution_count": 124,
   "id": "a152a33a-990b-4596-bd71-d371f81fc100",
   "metadata": {},
   "outputs": [],
   "source": [
    "parser = PydanticOutputParser(pydantic_object = PhiloExpression)\n",
    "prompt = get_prompt(base_prompt, parser)\n",
    "chain = prompt | model | parser\n",
    "\n",
    "expression = 'characteristica universalis'\n",
    "result = chain.invoke({\"expression\": expression})"
   ]
  },
  {
   "cell_type": "code",
   "execution_count": 125,
   "id": "0edc024b-2e5b-4256-bee9-02753e57e103",
   "metadata": {},
   "outputs": [
    {
     "data": {
      "text/plain": [
       "PhiloExpression(expression='characteristica universalis', translation='universal characteristic', explanation=\"In philosophy, the term 'characteristica universalis' refers to the idea of a comprehensive system of symbols or signs that could represent all concepts and knowledge universally. It is closely tied to the work of philosophers like Gottfried Wilhelm Leibniz, who envisioned a formal language capable of expressing all human knowledge through a set of universal characteristics that would allow for clear reasoning and communication. The concept suggests that there exists a foundational framework within which all concepts can be categorized and understood, aiming for clarity and precision in philosophical discourse.\", associated_with=['Gottfried Wilhelm Leibniz', 'Rationalism', 'Analytic Philosophy'], branch='Logic')"
      ]
     },
     "execution_count": 125,
     "metadata": {},
     "output_type": "execute_result"
    }
   ],
   "source": [
    "result"
   ]
  },
  {
   "cell_type": "raw",
   "id": "4a0cc874-2262-438f-918a-85658608e93f",
   "metadata": {},
   "source": []
  },
  {
   "cell_type": "code",
   "execution_count": 106,
   "id": "2117212b-e414-47c1-93a6-63308cd97d3c",
   "metadata": {},
   "outputs": [
    {
     "data": {
      "text/plain": [
       "'being a cause of itself'"
      ]
     },
     "execution_count": 106,
     "metadata": {},
     "output_type": "execute_result"
    }
   ],
   "source": [
    "result.translation"
   ]
  },
  {
   "cell_type": "code",
   "execution_count": 118,
   "id": "6e2ca2d2-6eeb-4b14-911c-36665061eb8a",
   "metadata": {},
   "outputs": [],
   "source": [
    "res = json.dumps(result.__dict__)"
   ]
  },
  {
   "cell_type": "code",
   "execution_count": 119,
   "id": "c7a4ab07-f649-4e3c-873a-ec979892245d",
   "metadata": {},
   "outputs": [
    {
     "data": {
      "text/plain": [
       "'{\"expression\": \"ens causa sui\", \"translation\": \"being cause of itself\", \"explanation\": \"In philosophy, the term \\'ens causa sui\\' refers to a being that is the cause of its own existence. This concept is often used to discuss the nature of God or a necessary being, which exists independently and is not contingent upon anything else. The idea implies that such a being must possess a nature that is self-sufficient and self-explanatory, without reliance on external factors for its existence. It raises questions about the nature of existence, causality, and the origins of being, often contrasting with contingent beings, which derive their existence from other sources.\", \"associated_with\": [\"Baruch Spinoza\", \"Gottfried Wilhelm Leibniz\", \"Georg Wilhelm Friedrich Hegel\"], \"branch\": \"Metaphysics\"}'"
      ]
     },
     "execution_count": 119,
     "metadata": {},
     "output_type": "execute_result"
    }
   ],
   "source": [
    "res"
   ]
  },
  {
   "cell_type": "code",
   "execution_count": null,
   "id": "5f5c5d3a-01f2-4e45-9d41-5d77a9dcde6d",
   "metadata": {},
   "outputs": [],
   "source": []
  }
 ],
 "metadata": {
  "kernelspec": {
   "display_name": "Python 3 (ipykernel)",
   "language": "python",
   "name": "python3"
  },
  "language_info": {
   "codemirror_mode": {
    "name": "ipython",
    "version": 3
   },
   "file_extension": ".py",
   "mimetype": "text/x-python",
   "name": "python",
   "nbconvert_exporter": "python",
   "pygments_lexer": "ipython3",
   "version": "3.12.3"
  }
 },
 "nbformat": 4,
 "nbformat_minor": 5
}
